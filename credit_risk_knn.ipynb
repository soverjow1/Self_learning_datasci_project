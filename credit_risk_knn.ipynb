{
 "cells": [
  {
   "cell_type": "markdown",
   "source": [
    "use same datasat but use KNN instead logis"
   ],
   "metadata": {}
  },
  {
   "cell_type": "code",
   "execution_count": 1,
   "source": [
    "import numpy as np\r\n",
    "import pandas as pd\r\n",
    "import matplotlib.pyplot as plt\r\n",
    "import seaborn as sns"
   ],
   "outputs": [],
   "metadata": {}
  },
  {
   "cell_type": "code",
   "execution_count": 2,
   "source": [
    "df = pd.read_csv('original.csv')"
   ],
   "outputs": [],
   "metadata": {}
  },
  {
   "cell_type": "code",
   "execution_count": 3,
   "source": [
    "df.head()"
   ],
   "outputs": [
    {
     "output_type": "execute_result",
     "data": {
      "text/plain": [
       "   clientid        income        age         loan  default\n",
       "0         1  66155.925095  59.017015  8106.532131        0\n",
       "1         2  34415.153966  48.117153  6564.745018        0\n",
       "2         3  57317.170063  63.108049  8020.953296        0\n",
       "3         4  42709.534201  45.751972  6103.642260        0\n",
       "4         5  66952.688845  18.584336  8770.099235        1"
      ],
      "text/html": [
       "<div>\n",
       "<style scoped>\n",
       "    .dataframe tbody tr th:only-of-type {\n",
       "        vertical-align: middle;\n",
       "    }\n",
       "\n",
       "    .dataframe tbody tr th {\n",
       "        vertical-align: top;\n",
       "    }\n",
       "\n",
       "    .dataframe thead th {\n",
       "        text-align: right;\n",
       "    }\n",
       "</style>\n",
       "<table border=\"1\" class=\"dataframe\">\n",
       "  <thead>\n",
       "    <tr style=\"text-align: right;\">\n",
       "      <th></th>\n",
       "      <th>clientid</th>\n",
       "      <th>income</th>\n",
       "      <th>age</th>\n",
       "      <th>loan</th>\n",
       "      <th>default</th>\n",
       "    </tr>\n",
       "  </thead>\n",
       "  <tbody>\n",
       "    <tr>\n",
       "      <th>0</th>\n",
       "      <td>1</td>\n",
       "      <td>66155.925095</td>\n",
       "      <td>59.017015</td>\n",
       "      <td>8106.532131</td>\n",
       "      <td>0</td>\n",
       "    </tr>\n",
       "    <tr>\n",
       "      <th>1</th>\n",
       "      <td>2</td>\n",
       "      <td>34415.153966</td>\n",
       "      <td>48.117153</td>\n",
       "      <td>6564.745018</td>\n",
       "      <td>0</td>\n",
       "    </tr>\n",
       "    <tr>\n",
       "      <th>2</th>\n",
       "      <td>3</td>\n",
       "      <td>57317.170063</td>\n",
       "      <td>63.108049</td>\n",
       "      <td>8020.953296</td>\n",
       "      <td>0</td>\n",
       "    </tr>\n",
       "    <tr>\n",
       "      <th>3</th>\n",
       "      <td>4</td>\n",
       "      <td>42709.534201</td>\n",
       "      <td>45.751972</td>\n",
       "      <td>6103.642260</td>\n",
       "      <td>0</td>\n",
       "    </tr>\n",
       "    <tr>\n",
       "      <th>4</th>\n",
       "      <td>5</td>\n",
       "      <td>66952.688845</td>\n",
       "      <td>18.584336</td>\n",
       "      <td>8770.099235</td>\n",
       "      <td>1</td>\n",
       "    </tr>\n",
       "  </tbody>\n",
       "</table>\n",
       "</div>"
      ]
     },
     "metadata": {},
     "execution_count": 3
    }
   ],
   "metadata": {}
  },
  {
   "cell_type": "code",
   "execution_count": 9,
   "source": [
    "df.drop(df[df['age']<0].index,axis=0,inplace=True)"
   ],
   "outputs": [],
   "metadata": {}
  },
  {
   "cell_type": "code",
   "execution_count": 10,
   "source": [
    "df['age'].fillna(df['age'].mean(),inplace=True)"
   ],
   "outputs": [],
   "metadata": {}
  },
  {
   "cell_type": "code",
   "execution_count": 11,
   "source": [
    "sns.heatmap(df.isnull(),yticklabels=False,cbar=False)"
   ],
   "outputs": [
    {
     "output_type": "execute_result",
     "data": {
      "text/plain": [
       "<AxesSubplot:>"
      ]
     },
     "metadata": {},
     "execution_count": 11
    },
    {
     "output_type": "display_data",
     "data": {
      "text/plain": [
       "<Figure size 432x288 with 1 Axes>"
      ],
      "image/png": "[encoded data removed]"
     },
     "metadata": {
      "needs_background": "light"
     }
    }
   ],
   "metadata": {}
  },
  {
   "cell_type": "code",
   "execution_count": 13,
   "source": [
    "from sklearn.preprocessing import StandardScaler\r\n",
    "scaler = StandardScaler()\r\n",
    "scaler.fit(df.drop(['default'],axis=1))\r\n",
    "scaler_tran = scaler.transform(df.drop(['default'],axis=1))"
   ],
   "outputs": [],
   "metadata": {}
  },
  {
   "cell_type": "code",
   "execution_count": 14,
   "source": [
    "df_scale = pd.DataFrame(data=scaler_tran,columns=df.drop(['default'],axis=1).columns)\r\n",
    "df_scale.head()"
   ],
   "outputs": [
    {
     "output_type": "execute_result",
     "data": {
      "text/plain": [
       "   clientid    income       age      loan\n",
       "0 -1.736184  1.454117  1.364356  1.203524\n",
       "1 -1.734449 -0.761739  0.542252  0.697145\n",
       "2 -1.732715  0.837074  1.672915  1.175417\n",
       "3 -1.730980 -0.182700  0.363862  0.545703\n",
       "4 -1.729246  1.509740 -1.685210  1.421463"
      ],
      "text/html": [
       "<div>\n",
       "<style scoped>\n",
       "    .dataframe tbody tr th:only-of-type {\n",
       "        vertical-align: middle;\n",
       "    }\n",
       "\n",
       "    .dataframe tbody tr th {\n",
       "        vertical-align: top;\n",
       "    }\n",
       "\n",
       "    .dataframe thead th {\n",
       "        text-align: right;\n",
       "    }\n",
       "</style>\n",
       "<table border=\"1\" class=\"dataframe\">\n",
       "  <thead>\n",
       "    <tr style=\"text-align: right;\">\n",
       "      <th></th>\n",
       "      <th>clientid</th>\n",
       "      <th>income</th>\n",
       "      <th>age</th>\n",
       "      <th>loan</th>\n",
       "    </tr>\n",
       "  </thead>\n",
       "  <tbody>\n",
       "    <tr>\n",
       "      <th>0</th>\n",
       "      <td>-1.736184</td>\n",
       "      <td>1.454117</td>\n",
       "      <td>1.364356</td>\n",
       "      <td>1.203524</td>\n",
       "    </tr>\n",
       "    <tr>\n",
       "      <th>1</th>\n",
       "      <td>-1.734449</td>\n",
       "      <td>-0.761739</td>\n",
       "      <td>0.542252</td>\n",
       "      <td>0.697145</td>\n",
       "    </tr>\n",
       "    <tr>\n",
       "      <th>2</th>\n",
       "      <td>-1.732715</td>\n",
       "      <td>0.837074</td>\n",
       "      <td>1.672915</td>\n",
       "      <td>1.175417</td>\n",
       "    </tr>\n",
       "    <tr>\n",
       "      <th>3</th>\n",
       "      <td>-1.730980</td>\n",
       "      <td>-0.182700</td>\n",
       "      <td>0.363862</td>\n",
       "      <td>0.545703</td>\n",
       "    </tr>\n",
       "    <tr>\n",
       "      <th>4</th>\n",
       "      <td>-1.729246</td>\n",
       "      <td>1.509740</td>\n",
       "      <td>-1.685210</td>\n",
       "      <td>1.421463</td>\n",
       "    </tr>\n",
       "  </tbody>\n",
       "</table>\n",
       "</div>"
      ]
     },
     "metadata": {},
     "execution_count": 14
    }
   ],
   "metadata": {}
  },
  {
   "cell_type": "code",
   "execution_count": 15,
   "source": [
    "from sklearn.model_selection import train_test_split\r\n",
    "X = df_scale.drop('clientid',axis=1)\r\n",
    "y = df['default']\r\n",
    "X_train ,X_test ,y_train ,y_test = train_test_split(X,y,test_size=0.3)"
   ],
   "outputs": [],
   "metadata": {}
  },
  {
   "cell_type": "code",
   "execution_count": 16,
   "source": [
    "from sklearn.neighbors import KNeighborsClassifier\r\n",
    "knn = KNeighborsClassifier(n_neighbors=5) \r\n",
    "knn.fit(X_train,y_train)\r\n",
    "y_knn = knn.predict(X_test)"
   ],
   "outputs": [],
   "metadata": {}
  },
  {
   "cell_type": "code",
   "execution_count": 17,
   "source": [
    "from sklearn.metrics import classification_report,confusion_matrix\r\n",
    "print(confusion_matrix(y_test,y_knn))\r\n",
    "print(classification_report(y_test,y_knn))"
   ],
   "outputs": [
    {
     "output_type": "stream",
     "name": "stdout",
     "text": [
      "[[513   9]\n",
      " [  7  71]]\n",
      "              precision    recall  f1-score   support\n",
      "\n",
      "           0       0.99      0.98      0.98       522\n",
      "           1       0.89      0.91      0.90        78\n",
      "\n",
      "    accuracy                           0.97       600\n",
      "   macro avg       0.94      0.95      0.94       600\n",
      "weighted avg       0.97      0.97      0.97       600\n",
      "\n"
     ]
    }
   ],
   "metadata": {}
  },
  {
   "cell_type": "code",
   "execution_count": null,
   "source": [
    "# knn model ทำนาย dataset ชุดนี้ได้ดีกว่า logis model "
   ],
   "outputs": [],
   "metadata": {}
  },
  {
   "cell_type": "code",
   "execution_count": 20,
   "source": [
    "list = []\r\n",
    "for i in range(1,100):\r\n",
    "    knn = KNeighborsClassifier(n_neighbors=i)\r\n",
    "    knn.fit(X_train,y_train)\r\n",
    "    pred_i = knn.predict(X_test)\r\n",
    "    list.append(np.average(pred_i == y_test))\r\n",
    "\r\n",
    "plt.figure(figsize=(12,5))\r\n",
    "plt.plot(range(1,100),list,marker='o')\r\n",
    "plt.grid()\r\n",
    "#ค่าความแม่นของ model อยู่ในช่วง 97 - 98% ขึ้นอยู่กับ n_neighbors"
   ],
   "outputs": [
    {
     "output_type": "display_data",
     "data": {
      "text/plain": [
       "<Figure size 864x360 with 1 Axes>"
      ],
      "image/png": "[encoded data removed]"
     },
     "metadata": {
      "needs_background": "light"
     }
    }
   ],
   "metadata": {}
  }
 ],
 "metadata": {
  "orig_nbformat": 4,
  "language_info": {
   "name": "python",
   "version": "3.9.5",
   "mimetype": "text/x-python",
   "codemirror_mode": {
    "name": "ipython",
    "version": 3
   },
   "pygments_lexer": "ipython3",
   "nbconvert_exporter": "python",
   "file_extension": ".py"
  },
  "kernelspec": {
   "name": "python3",
   "display_name": "Python 3.9.5 64-bit ('WindowsApps')"
  },
  "interpreter": {
   "hash": "63a7e011011b103ec8398aea4c436fa757f6b7b9e82fa5e3d83498c49dc916ab"
  }
 },
 "nbformat": 4,
 "nbformat_minor": 2
}